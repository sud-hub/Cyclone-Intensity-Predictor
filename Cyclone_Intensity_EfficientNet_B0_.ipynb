{
  "metadata": {
    "kernelspec": {
      "language": "python",
      "display_name": "Python 3",
      "name": "python3"
    },
    "language_info": {
      "name": "python",
      "version": "3.11.13",
      "mimetype": "text/x-python",
      "codemirror_mode": {
        "name": "ipython",
        "version": 3
      },
      "pygments_lexer": "ipython3",
      "nbconvert_exporter": "python",
      "file_extension": ".py"
    },
    "kaggle": {
      "accelerator": "none",
      "dataSources": [
        {
          "sourceId": 3868589,
          "sourceType": "datasetVersion",
          "datasetId": 2299549
        }
      ],
      "dockerImageVersionId": 31089,
      "isInternetEnabled": true,
      "language": "python",
      "sourceType": "notebook",
      "isGpuEnabled": false
    },
    "colab": {
      "provenance": [],
      "include_colab_link": true
    }
  },
  "nbformat_minor": 0,
  "nbformat": 4,
  "cells": [
    {
      "cell_type": "markdown",
      "metadata": {
        "id": "view-in-github",
        "colab_type": "text"
      },
      "source": [
        "<a href=\"https://colab.research.google.com/github/sud-hub/Cyclone-Intensity-Predictor/blob/main/Cyclone_Intensity_EfficientNet_B0_.ipynb\" target=\"_parent\"><img src=\"https://colab.research.google.com/assets/colab-badge.svg\" alt=\"Open In Colab\"/></a>"
      ]
    },
    {
      "source": [
        "# IMPORTANT: RUN THIS CELL IN ORDER TO IMPORT YOUR KAGGLE DATA SOURCES,\n",
        "# THEN FEEL FREE TO DELETE THIS CELL.\n",
        "# NOTE: THIS NOTEBOOK ENVIRONMENT DIFFERS FROM KAGGLE'S PYTHON\n",
        "# ENVIRONMENT SO THERE MAY BE MISSING LIBRARIES USED BY YOUR\n",
        "# NOTEBOOK.\n",
        "import kagglehub\n",
        "sshubam_insat3d_infrared_raw_cyclone_images_20132021_path = kagglehub.dataset_download('sshubam/insat3d-infrared-raw-cyclone-images-20132021')\n",
        "\n",
        "print('Data source import complete.')\n"
      ],
      "metadata": {
        "id": "ZOkT6ZGUvfaX",
        "outputId": "3bff9b62-3f6b-432d-f6e1-698bae988295",
        "colab": {
          "base_uri": "https://localhost:8080/"
        }
      },
      "cell_type": "code",
      "outputs": [
        {
          "output_type": "stream",
          "name": "stdout",
          "text": [
            "Downloading from https://www.kaggle.com/api/v1/datasets/download/sshubam/insat3d-infrared-raw-cyclone-images-20132021?dataset_version_number=1...\n"
          ]
        },
        {
          "output_type": "stream",
          "name": "stderr",
          "text": [
            "100%|██████████| 43.2M/43.2M [00:00<00:00, 106MB/s] "
          ]
        },
        {
          "output_type": "stream",
          "name": "stdout",
          "text": [
            "Extracting files...\n"
          ]
        },
        {
          "output_type": "stream",
          "name": "stderr",
          "text": [
            "\n"
          ]
        },
        {
          "output_type": "stream",
          "name": "stdout",
          "text": [
            "Data source import complete.\n"
          ]
        }
      ],
      "execution_count": null
    },
    {
      "cell_type": "code",
      "source": [
        "print(sshubam_insat3d_infrared_raw_cyclone_images_20132021_path)"
      ],
      "metadata": {
        "id": "Q4ZO1m4kwi0A",
        "outputId": "9dd580a3-1024-458c-adc6-42a35169dca9",
        "colab": {
          "base_uri": "https://localhost:8080/"
        }
      },
      "execution_count": null,
      "outputs": [
        {
          "output_type": "stream",
          "name": "stdout",
          "text": [
            "/root/.cache/kagglehub/datasets/sshubam/insat3d-infrared-raw-cyclone-images-20132021/versions/1\n"
          ]
        }
      ]
    },
    {
      "cell_type": "code",
      "source": [
        "import os\n",
        "\n",
        "# Option 1: Using os.listdir()\n",
        "download_dir = sshubam_insat3d_infrared_raw_cyclone_images_20132021_path\n",
        "print(os.listdir(download_dir))\n",
        "\n",
        "# Option 2: Using shell command\n",
        "!ls -F \"$sshubam_insat3d_infrared_raw_cyclone_images_20132021_path\""
      ],
      "metadata": {
        "id": "Rhf7XaMFw9Qo",
        "outputId": "d44e0733-989e-4b46-e9be-50f172f9e4b8",
        "colab": {
          "base_uri": "https://localhost:8080/"
        }
      },
      "execution_count": null,
      "outputs": [
        {
          "output_type": "stream",
          "name": "stdout",
          "text": [
            "['insat3d_ir_cyclone_ds', 'insat_3d_ds - Sheet.csv', 'insat3d_raw_cyclone_ds', 'insat3d_for_reference_ds']\n",
            "'insat_3d_ds - Sheet.csv'    insat3d_ir_cyclone_ds/\n",
            " insat3d_for_reference_ds/   insat3d_raw_cyclone_ds/\n"
          ]
        }
      ]
    },
    {
      "cell_type": "code",
      "source": [
        "# This Python 3 environment comes with many helpful analytics libraries installed\n",
        "# It is defined by the kaggle/python Docker image: https://github.com/kaggle/docker-python\n",
        "# For example, here's several helpful packages to load\n",
        "\n",
        "import numpy as np # linear algebra\n",
        "import pandas as pd # data processing, CSV file I/O (e.g. pd.read_csv)\n",
        "\n",
        "# Input data files are available in the read-only \"../input/\" directory\n",
        "# For example, running this (by clicking run or pressing Shift+Enter) will list all files under the input directory\n",
        "\n",
        "# import os\n",
        "# for dirname, _, filenames in os.walk('/kaggle/input'):\n",
        "#     for filename in filenames:\n",
        "#         print(os.path.join(dirname, filename))\n",
        "\n",
        "# You can write up to 20GB to the current directory (/kaggle/working/) that gets preserved as output when you create a version using \"Save & Run All\"\n",
        "# You can also write temporary files to /kaggle/temp/, but they won't be saved outside of the current session"
      ],
      "metadata": {
        "_uuid": "8f2839f25d086af736a60e9eeb907d3b93b6e0e5",
        "_cell_guid": "b1076dfc-b9ad-4769-8c92-a6c4dae69d19",
        "trusted": true,
        "execution": {
          "iopub.status.busy": "2025-07-13T16:09:17.465568Z",
          "iopub.execute_input": "2025-07-13T16:09:17.466203Z",
          "iopub.status.idle": "2025-07-13T16:09:17.74556Z",
          "shell.execute_reply.started": "2025-07-13T16:09:17.466176Z",
          "shell.execute_reply": "2025-07-13T16:09:17.744812Z"
        },
        "id": "nvsdDGipvfaa"
      },
      "outputs": [],
      "execution_count": null
    },
    {
      "cell_type": "code",
      "source": [
        "import os\n",
        "import torch\n",
        "import torch.nn as nn\n",
        "import torch.optim as optim\n",
        "from torch.utils.data import Dataset, DataLoader\n",
        "from torchvision import transforms\n",
        "from torchvision.models import efficientnet_b0\n",
        "from PIL import Image\n",
        "import pandas as pd\n",
        "from sklearn.model_selection import train_test_split\n",
        "from sklearn.metrics import mean_absolute_error, mean_squared_error\n",
        "import numpy as np\n"
      ],
      "metadata": {
        "trusted": true,
        "execution": {
          "iopub.status.busy": "2025-07-13T16:09:17.747123Z",
          "iopub.execute_input": "2025-07-13T16:09:17.747523Z",
          "iopub.status.idle": "2025-07-13T16:09:25.572858Z",
          "shell.execute_reply.started": "2025-07-13T16:09:17.747498Z",
          "shell.execute_reply": "2025-07-13T16:09:25.57202Z"
        },
        "id": "ZKI_CLNVvfab"
      },
      "outputs": [],
      "execution_count": null
    },
    {
      "cell_type": "code",
      "source": [
        "CSV_PATH = \"/root/.cache/kagglehub/datasets/sshubam/insat3d-infrared-raw-cyclone-images-20132021/versions/1/insat_3d_ds - Sheet.csv\"\n",
        "BT_DIR = \"/root/.cache/kagglehub/datasets/sshubam/insat3d-infrared-raw-cyclone-images-20132021/versions/1/insat3d_ir_cyclone_ds/CYCLONE_DATASET_INFRARED\"\n",
        "RAW_DIR = \"/root/.cache/kagglehub/datasets/sshubam/insat3d-infrared-raw-cyclone-images-20132021/versions/1/insat3d_raw_cyclone_ds/CYCLONE_DATASET_FINAL\"\n",
        "\n",
        "df = pd.read_csv(CSV_PATH)\n",
        "\n",
        "# Ensure matching files in both folders\n",
        "df = df[df['img_name'].apply(lambda x: os.path.isfile(os.path.join(BT_DIR, x)) and os.path.isfile(os.path.join(RAW_DIR, x)))]\n",
        "\n",
        "train_df, val_df = train_test_split(df, test_size=0.2, random_state=42)\n"
      ],
      "metadata": {
        "trusted": true,
        "execution": {
          "iopub.status.busy": "2025-07-13T16:09:25.573699Z",
          "iopub.execute_input": "2025-07-13T16:09:25.574202Z",
          "iopub.status.idle": "2025-07-13T16:09:26.581068Z",
          "shell.execute_reply.started": "2025-07-13T16:09:25.574176Z",
          "shell.execute_reply": "2025-07-13T16:09:26.580385Z"
        },
        "id": "gR3vsagPvfac"
      },
      "outputs": [],
      "execution_count": null
    },
    {
      "cell_type": "code",
      "source": [
        "class CycloneDataset(Dataset):\n",
        "    def __init__(self, dataframe, bt_dir, raw_dir, transform=None):\n",
        "        self.df = dataframe.reset_index(drop=True)\n",
        "        self.bt_dir = bt_dir\n",
        "        self.raw_dir = raw_dir\n",
        "        self.transform = transform\n",
        "\n",
        "    def __len__(self):\n",
        "        return len(self.df)\n",
        "\n",
        "    def __getitem__(self, idx):\n",
        "        filename = self.df.loc[idx, 'img_name']\n",
        "        label = torch.tensor(self.df.loc[idx, 'label'], dtype=torch.float32)\n",
        "\n",
        "        bt_img = Image.open(os.path.join(self.bt_dir, filename)).convert(\"RGB\")\n",
        "        raw_img = Image.open(os.path.join(self.raw_dir, filename)).convert(\"L\")\n",
        "\n",
        "        if self.transform:\n",
        "            bt_img = self.transform(bt_img)\n",
        "            raw_img = self.transform(raw_img)\n",
        "\n",
        "        raw_img = raw_img[0].unsqueeze(0)  # (1, H, W)\n",
        "        x = torch.cat([bt_img, raw_img], dim=0)  # (4, H, W)\n",
        "\n",
        "        return x, label\n"
      ],
      "metadata": {
        "trusted": true,
        "execution": {
          "iopub.status.busy": "2025-07-13T16:09:26.581907Z",
          "iopub.execute_input": "2025-07-13T16:09:26.58219Z",
          "iopub.status.idle": "2025-07-13T16:09:26.589925Z",
          "shell.execute_reply.started": "2025-07-13T16:09:26.582166Z",
          "shell.execute_reply": "2025-07-13T16:09:26.58883Z"
        },
        "id": "BSXT-hpIvfad"
      },
      "outputs": [],
      "execution_count": null
    },
    {
      "cell_type": "code",
      "source": [
        "transform = transforms.Compose([\n",
        "    transforms.Resize((224, 224)),\n",
        "    transforms.ToTensor(),\n",
        "    transforms.RandomRotation(10),\n",
        "    transforms.ColorJitter(brightness=0.2, contrast=0.2),\n",
        "])\n",
        "\n",
        "train_ds = CycloneDataset(train_df, BT_DIR, RAW_DIR, transform)\n",
        "val_ds = CycloneDataset(val_df, BT_DIR, RAW_DIR, transform)\n",
        "\n",
        "train_loader = DataLoader(train_ds, batch_size=32, shuffle=True)\n",
        "val_loader = DataLoader(val_ds, batch_size=32, shuffle=False)\n"
      ],
      "metadata": {
        "trusted": true,
        "execution": {
          "iopub.status.busy": "2025-07-13T16:09:26.592122Z",
          "iopub.execute_input": "2025-07-13T16:09:26.592352Z",
          "iopub.status.idle": "2025-07-13T16:09:26.6132Z",
          "shell.execute_reply.started": "2025-07-13T16:09:26.592334Z",
          "shell.execute_reply": "2025-07-13T16:09:26.612481Z"
        },
        "id": "93cYmJhdvfad"
      },
      "outputs": [],
      "execution_count": null
    },
    {
      "cell_type": "code",
      "source": [
        "from torchvision.models import efficientnet_b0, EfficientNet_B0_Weights\n",
        "\n",
        "\n",
        "def get_efficientnet_b0_4ch():\n",
        "    weights = EfficientNet_B0_Weights.DEFAULT  # or use IMAGENET1K_V1 if you want exact match\n",
        "    model = efficientnet_b0(weights=weights)\n",
        "\n",
        "    # Modify first layer to accept 4 channels\n",
        "    conv_stem = model.features[0][0]\n",
        "    new_conv = nn.Conv2d(4, conv_stem.out_channels, kernel_size=3, stride=2, padding=1, bias=False)\n",
        "    with torch.no_grad():\n",
        "        new_conv.weight[:, :3, :, :] = conv_stem.weight  # Copy RGB weights\n",
        "        new_conv.weight[:, 3:4, :, :] = conv_stem.weight[:, :1, :, :]  # Copy R to 4th channel\n",
        "    model.features[0][0] = new_conv\n",
        "\n",
        "    # Modify classifier for regression\n",
        "    model.classifier[1] = nn.Linear(model.classifier[1].in_features, 1)\n",
        "    return model\n"
      ],
      "metadata": {
        "trusted": true,
        "execution": {
          "iopub.status.busy": "2025-07-13T16:09:26.613893Z",
          "iopub.execute_input": "2025-07-13T16:09:26.614128Z",
          "iopub.status.idle": "2025-07-13T16:09:26.627831Z",
          "shell.execute_reply.started": "2025-07-13T16:09:26.614111Z",
          "shell.execute_reply": "2025-07-13T16:09:26.627099Z"
        },
        "id": "A6qmcxAavfad"
      },
      "outputs": [],
      "execution_count": null
    },
    {
      "cell_type": "code",
      "source": [
        "device = torch.device(\"cuda\" if torch.cuda.is_available() else \"cpu\")\n",
        "model = get_efficientnet_b0_4ch().to(device)\n",
        "\n",
        "criterion = nn.MSELoss()\n",
        "optimizer = optim.Adam(model.parameters(), lr=1e-3)\n",
        "\n",
        "best_val_loss = float('inf')\n",
        "patience = 10\n",
        "wait = 0\n",
        "EPOCHS = 50\n",
        "\n",
        "for epoch in range(1, EPOCHS + 1):\n",
        "    # Training\n",
        "    model.train()\n",
        "    train_loss = 0\n",
        "    for x, y in train_loader:\n",
        "        x, y = x.to(device), y.to(device).view(-1, 1)\n",
        "        optimizer.zero_grad()\n",
        "        pred = model(x)\n",
        "        loss = criterion(pred, y)\n",
        "        loss.backward()\n",
        "        optimizer.step()\n",
        "        train_loss += loss.item()\n",
        "\n",
        "    # Validation\n",
        "    model.eval()\n",
        "    val_loss = 0\n",
        "    y_true, y_pred = [], []\n",
        "\n",
        "    with torch.no_grad():\n",
        "        for x, y in val_loader:\n",
        "            x, y = x.to(device), y.to(device).view(-1, 1)\n",
        "            pred = model(x)\n",
        "            loss = criterion(pred, y)\n",
        "            val_loss += loss.item()\n",
        "\n",
        "            y_true.extend(y.cpu().numpy())\n",
        "            y_pred.extend(pred.cpu().numpy())\n",
        "\n",
        "    avg_train_loss = train_loss / len(train_loader)\n",
        "    avg_val_loss = val_loss / len(val_loader)\n",
        "    mae = mean_absolute_error(y_true, y_pred)\n",
        "    rmse = np.sqrt(mean_squared_error(y_true, y_pred))\n",
        "\n",
        "    print(f\"[Epoch {epoch:02d}] Train Loss: {avg_train_loss:.2f} | Val Loss: {avg_val_loss:.2f} | MAE: {mae:.2f} | RMSE: {rmse:.2f}\")\n",
        "\n",
        "    # Checkpointing\n",
        "    if avg_val_loss < best_val_loss:\n",
        "        best_val_loss = avg_val_loss\n",
        "        wait = 0\n",
        "        torch.save(model.state_dict(), f\"best_model_epoch{epoch}_mae{mae:.2f}.pt\")\n",
        "        print(f\"✅ Saved best model at epoch {epoch}\")\n",
        "    else:\n",
        "        wait += 1\n",
        "        if wait >= patience:\n",
        "            print(f\"⏹️ Early stopping at epoch {epoch}\")\n",
        "            break\n"
      ],
      "metadata": {
        "trusted": true,
        "execution": {
          "iopub.status.busy": "2025-07-13T16:09:26.628529Z",
          "iopub.execute_input": "2025-07-13T16:09:26.628798Z",
          "iopub.status.idle": "2025-07-13T16:11:09.692793Z",
          "shell.execute_reply.started": "2025-07-13T16:09:26.628777Z",
          "shell.execute_reply": "2025-07-13T16:11:09.691954Z"
        },
        "id": "CUrsg3kuvfae"
      },
      "outputs": [],
      "execution_count": null
    },
    {
      "cell_type": "code",
      "source": [
        "model.load_state_dict(torch.load(\"/kaggle/working/best_model_epoch38_mae8.20.pt\"))  # Replace with actual filename\n",
        "\n",
        "model.eval()\n",
        "preds, targets = [], []\n",
        "\n",
        "with torch.no_grad():\n",
        "    for x, y in val_loader:\n",
        "        x, y = x.to(device), y.to(device).view(-1, 1)\n",
        "        outputs = model(x)\n",
        "        preds.extend(outputs.cpu().numpy())\n",
        "        targets.extend(y.cpu().numpy())\n",
        "\n",
        "mae = mean_absolute_error(targets, preds)\n",
        "rmse = np.sqrt(mean_squared_error(targets, preds))\n",
        "print(f\"📊 Final MAE: {mae:.2f}, RMSE: {rmse:.2f}\")\n"
      ],
      "metadata": {
        "trusted": true,
        "execution": {
          "iopub.status.busy": "2025-07-13T16:11:53.026305Z",
          "iopub.execute_input": "2025-07-13T16:11:53.027095Z",
          "iopub.status.idle": "2025-07-13T16:11:53.483277Z",
          "shell.execute_reply.started": "2025-07-13T16:11:53.027071Z",
          "shell.execute_reply": "2025-07-13T16:11:53.482598Z"
        },
        "id": "QKMBEKDGvfaf"
      },
      "outputs": [],
      "execution_count": null
    },
    {
      "cell_type": "code",
      "source": [
        "import matplotlib.pyplot as plt\n",
        "import numpy as np\n",
        "\n",
        "# Dummy predictions and targets for plotting (replace with actual values if needed)\n",
        "# Here we assume `preds` and `targets` are already defined from the validation step\n",
        "\n",
        "# Convert to flat NumPy arrays for plotting\n",
        "preds_array = np.array(preds).flatten()\n",
        "targets_array = np.array(targets).flatten()\n",
        "\n",
        "# Scatter plot\n",
        "plt.figure(figsize=(8, 6))\n",
        "plt.scatter(targets_array, preds_array, alpha=0.6, color='teal', edgecolors='k')\n",
        "plt.plot([targets_array.min(), targets_array.max()], [targets_array.min(), targets_array.max()], 'r--', lw=2)\n",
        "plt.xlabel(\"Actual Intensity (knots)\")\n",
        "plt.ylabel(\"Predicted Intensity (knots)\")\n",
        "plt.title(\"Predicted vs Actual Cyclone Intensity\")\n",
        "plt.grid(True)\n",
        "plt.tight_layout()\n",
        "plt.show()\n"
      ],
      "metadata": {
        "trusted": true,
        "execution": {
          "iopub.status.busy": "2025-07-13T16:14:40.934746Z",
          "iopub.execute_input": "2025-07-13T16:14:40.935003Z",
          "iopub.status.idle": "2025-07-13T16:14:41.234114Z",
          "shell.execute_reply.started": "2025-07-13T16:14:40.934987Z",
          "shell.execute_reply": "2025-07-13T16:14:41.233273Z"
        },
        "id": "w4Xuqkmevfaf"
      },
      "outputs": [],
      "execution_count": null
    },
    {
      "cell_type": "code",
      "source": [
        "import matplotlib.pyplot as plt\n",
        "import torch\n",
        "\n",
        "# Make sure model is in eval mode\n",
        "model.eval()\n",
        "\n",
        "# Get 16 samples from validation set\n",
        "samples = [val_ds[i] for i in range(16)]\n",
        "images = torch.stack([s[0] for s in samples])\n",
        "labels = [s[1].item() for s in samples]\n",
        "\n",
        "# Move to device\n",
        "images = images.to(device)\n",
        "\n",
        "# Predict\n",
        "with torch.no_grad():\n",
        "    preds = model(images).cpu().numpy().flatten()\n",
        "\n",
        "# Plotting\n",
        "plt.figure(figsize=(20, 20))\n",
        "for i in range(16):\n",
        "    img_tensor = samples[i][0][:3]  # Only take RGB channels\n",
        "    img_np = img_tensor.permute(1, 2, 0).numpy()  # (C, H, W) → (H, W, C)\n",
        "    img_np = img_np.clip(0, 1)  # Avoid overflow\n",
        "\n",
        "    ax = plt.subplot(4, 4, i + 1)\n",
        "    plt.imshow(img_np)\n",
        "    plt.title(f\"O: {labels[i]:.1f}  |  P: {preds[i]:.1f}\", fontsize=12)\n",
        "    plt.axis(\"off\")\n",
        "\n",
        "plt.suptitle(\"Predicted vs Actual Cyclone Intensity (BT Image)\", fontsize=20)\n",
        "plt.tight_layout()\n",
        "plt.show()\n"
      ],
      "metadata": {
        "trusted": true,
        "execution": {
          "iopub.status.busy": "2025-07-13T16:39:37.485371Z",
          "iopub.execute_input": "2025-07-13T16:39:37.485638Z",
          "iopub.status.idle": "2025-07-13T16:39:41.104276Z",
          "shell.execute_reply.started": "2025-07-13T16:39:37.485618Z",
          "shell.execute_reply": "2025-07-13T16:39:41.103533Z"
        },
        "id": "arIY4cLOvfag"
      },
      "outputs": [],
      "execution_count": null
    },
    {
      "cell_type": "code",
      "source": [],
      "metadata": {
        "trusted": true,
        "id": "yjm40erNvfag"
      },
      "outputs": [],
      "execution_count": null
    }
  ]
}